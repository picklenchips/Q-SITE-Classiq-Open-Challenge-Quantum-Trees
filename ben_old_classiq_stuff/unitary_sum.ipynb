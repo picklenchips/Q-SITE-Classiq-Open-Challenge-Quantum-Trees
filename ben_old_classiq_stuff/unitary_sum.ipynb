{
 "cells": [
  {
   "cell_type": "markdown",
   "metadata": {},
   "source": [
    "# Applying Non-Unitary Operators\n",
    "\n",
    "Apply the non-unitary matrix \n",
    "$$\n",
    "\\begin{bmatrix}\n",
    "1 & 0 \\\\ 0 & 0\n",
    "\\end{bmatrix} = \\frac1{2}\\left( \\hat{I} + \\hat{Z}  \\right) = |0\\rangle\\langle 0|$$\n",
    "on the 1-qubit quantum state \n",
    "$$|x\\rangle = \\frac1{\\sqrt{10}}\\begin{bmatrix}\\sqrt{3} \\\\ \\sqrt{7}\\end{bmatrix}$$\n",
    "\n",
    "Solution: first we prepare state $|x\\rangle$ using the `prepare_state` function. This is achieved by a rotation around the $y$-axis of $\\theta = 2\\arccos(\\sqrt{0.3})\\approx 1.982$ radians, as we are just encoding $x$ with real numbers. \n",
    "\n",
    "We then apply the linear combination of unitaries as found in the [Classiq Page](https://docs.classiq.io/latest/explore/tutorials/linear_combination_of_unitaries/linear_combination_of_unitaries/), where we use a controller to encode the coefficients $\\alpha_i$ and apply each unitary one by one.\n",
    "\n",
    "I encountered an issue when trying to make this linear combination of unitaries function generalizable. It seems that you cannot pass in a `list`, or `CArray` of `QArray` functions as an argument of a `qfunc`, which I was trying to do in `apply_lcu` below. "
   ]
  },
  {
   "cell_type": "code",
   "execution_count": 40,
   "metadata": {},
   "outputs": [],
   "source": [
    "from classiq import (\n",
    "    qfunc, Output, QBit, QNum, QArray, QCallable, CArray, CReal,\n",
    "    allocate, within_apply, control, \n",
    "    prepare_state, apply_to_all, inplace_prepare_state,\n",
    "    set_constraints, Constraints, set_execution_preferences, QuantumProgram,\n",
    "    create_model, synthesize, execute, write_qmod, show,\n",
    "    qft, invert,\n",
    "    IDENTITY, X, Y, Z, H, S, T,\n",
    ")\n",
    "from classiq.execution import ExecutionPreferences\n",
    "import numpy as np\n",
    "import matplotlib.pyplot as plt\n",
    "\n",
    "def apply_lcu(controller: QNum, psi: QNum, unitaries: list[QCallable]) -> None:\n",
    "    for i in range(len(unitaries)):\n",
    "        control(controller == i, lambda: unitaries[i](psi))\n",
    "\n",
    "@qfunc\n",
    "def main(controller: Output[QNum], psi: Output[QNum]) -> None:\n",
    "    error_bound = 0.01\n",
    "    ctrl_probs = [0.5,0.5]\n",
    "    unitaries = [IDENTITY, Z]\n",
    "    # prepare psi\n",
    "    prepare_state(probabilities=[0.3,0.7], bound=error_bound, out=psi)\n",
    "    # Allocating the target and control qubits, respectively\n",
    "    ncontrol = np.ceil(np.log2(len(ctrl_probs)))\n",
    "    allocate(ncontrol, controller)\n",
    "    # apply the linear combination\n",
    "    within_apply(\n",
    "        compute=lambda: inplace_prepare_state(\n",
    "            probabilities=ctrl_probs, bound=error_bound, target=controller\n",
    "        ),\n",
    "        action=lambda: apply_lcu(controller, psi, unitaries),\n",
    "    )\n",
    "\n",
    "qmod = create_model(main)"
   ]
  },
  {
   "cell_type": "markdown",
   "metadata": {},
   "source": [
    "Nevertheless, I still wanted to make this code somewhat general so that I could (maybe) make a robust non-unitary creation process, that solves general matrix sum decomposition problems and then applies it here.  \n",
    "\n",
    "I worked around the problem above by using list comprehension instead, which can be compiled in `qmod`. The generated circuit is shown below:\n",
    "\n",
    "`controller:`\n",
    "\n",
    "`|0> –––––––——————— H ——— • ——— H ———— ( / ) = 0`\n",
    "\n",
    "`target:⠀⠀⠀⠀⠀⠀⠀⠀⠀⠀⠀⠀⠀⠀⠀⠀|⠀⠀⠀⠀⠀⠀⠀⠀⠀⠀⠀⠀⠀⠀⠀⠀⠀`\n",
    "\n",
    "`|0> –– R_y(1.98) ——————— • ——————————————————— state has been unitary'd`\n",
    "\n",
    "\n",
    "By taking the expectation of the final composite state, which includes both the target and the controller qubit(s), with the zero state of the controller, we achieve the desired linear combination of unitaries. This is shown below in the bar-plot, where we see only the states $|00\\rangle$ and $|11\\rangle$, but no mixed states, indicating that we have indeed projected our target state onto $|0\\rangle$. We have equivalently entangled the measurements of the controller and the target states, which can be seen from the bar-plot nicely demonstrating the initial probability distribution of $\\psi$. "
   ]
  },
  {
   "cell_type": "code",
   "execution_count": 25,
   "metadata": {},
   "outputs": [
    {
     "name": "stdout",
     "output_type": "stream",
     "text": [
      "Opening: https://platform.classiq.io/circuit/09a50c51-9e86-43d8-a76f-1a622b296b8d?version=0.43.2\n",
      "Job with 10000 shots is QUEUED on provider-backend=Classiq-simulator and can be accessed at https://platform.classiq.io/jobs/74bd5225-5a06-4bca-b916-da96bd3269ea\n",
      "{'00': 2986, '11': 7014}\n"
     ]
    }
   ],
   "source": [
    "# workaround by using list comprehension\n",
    "def combine_unitaries(psi_probs: list[float], ctrl_probs: list[float], \n",
    "                      unitaries: list[QCallable], error_bound = 0.01):\n",
    "    assert len(ctrl_probs) == len(unitaries)\n",
    "    assert sum(ctrl_probs) == 1\n",
    "    assert sum(psi_probs) == 1\n",
    "    ncontrol = np.ceil(np.log2(len(ctrl_probs)))\n",
    "    \n",
    "    def apply_lcu(controller: QNum, psi: QNum, unitaries: list[QCallable]) -> None:\n",
    "        for i in range(len(unitaries)):\n",
    "            control(controller == i, lambda: unitaries[i](psi))\n",
    "\n",
    "    @qfunc\n",
    "    def main(controller: Output[QNum], psi: Output[QNum]) -> None:\n",
    "        prepare_state(probabilities=[0.3,0.7], bound=error_bound, out=psi)\n",
    "        allocate(ncontrol, controller)\n",
    "        within_apply(\n",
    "            compute=lambda: inplace_prepare_state(\n",
    "                probabilities=ctrl_probs, bound=error_bound, target=controller\n",
    "            ),\n",
    "            action=lambda: apply_lcu(controller, psi, unitaries),\n",
    "        )\n",
    "    \n",
    "    qmod = create_model(main)\n",
    "    write_qmod(qmod, 'lcu')\n",
    "    \"\"\"\n",
    "    qfunc main(output controller: qnum, output psi: qnum) {\n",
    "        prepare_state<[0.3, 0.7], 0.01>(psi);\n",
    "        allocate<1.0>(controller);\n",
    "        within {\n",
    "            inplace_prepare_state<[0.5, 0.5], 0.01>(controller);\n",
    "        } apply {\n",
    "            control (controller == 0) {\n",
    "            IDENTITY(psi);\n",
    "            }\n",
    "            control (controller == 1) {\n",
    "            Z(psi);\n",
    "            }\n",
    "        }\n",
    "    }\n",
    "    \"\"\"\n",
    "    return qmod\n",
    "\n",
    "\n",
    "psi_probs = [0.3,0.7]\n",
    "ctrl_probs = [0.5,0.5]\n",
    "unitaries = [IDENTITY, Z]\n",
    "\n",
    "qmod = combine_unitaries(psi_probs, ctrl_probs, unitaries)\n",
    "nshots = 10000\n",
    "exmod = set_execution_preferences(\n",
    "    qmod,\n",
    "    ExecutionPreferences(num_shots=nshots, job_name=f\"lcu_{nshots}\", random_seed=767)\n",
    ")\n",
    "qprog = synthesize(exmod)\n",
    "\n",
    "# open quantum program in IDE\n",
    "show(qprog)\n",
    "\n",
    "job = execute(qprog)\n",
    "print(\n",
    "    f\"Job with {job.num_shots} shots is {job.status} on provider-backend={job.provider}-{job.backend_name} and can be accessed at {job.ide_url}\"\n",
    ")\n",
    "# view job in IDE\n",
    "job.open_in_ide()\n",
    "results = job.result()[0].value\n",
    "counts = results.counts\n",
    "print(counts)"
   ]
  },
  {
   "cell_type": "code",
   "execution_count": 34,
   "metadata": {},
   "outputs": [
    {
     "data": {
      "image/png": "[encoded data removed]",
      "text/plain": [
       "<Figure size 640x480 with 1 Axes>"
      ]
     },
     "metadata": {},
     "output_type": "display_data"
    }
   ],
   "source": [
    "fig, ax = plt.subplots()\n",
    "plt.bar(range(len(counts)), list(counts.values()), align='center')\n",
    "plt.xticks(range(len(counts)), list(counts.keys()))\n",
    "plt.title('Raw LCU Counts')\n",
    "ax.text(0.02,1, r\"Applying $|0\\rangle\\langle0|$ to single qubit state\", \n",
    "    horizontalalignment='left',\n",
    "    verticalalignment='top',\n",
    "    transform = ax.transAxes)\n",
    "plt.show()"
   ]
  },
  {
   "cell_type": "markdown",
   "metadata": {},
   "source": []
  }
 ],
 "metadata": {
  "kernelspec": {
   "display_name": "physics",
   "language": "python",
   "name": "python3"
  },
  "language_info": {
   "codemirror_mode": {
    "name": "ipython",
    "version": 3
   },
   "file_extension": ".py",
   "mimetype": "text/x-python",
   "name": "python",
   "nbconvert_exporter": "python",
   "pygments_lexer": "ipython3",
   "version": "3.11.9"
  }
 },
 "nbformat": 4,
 "nbformat_minor": 2
}
