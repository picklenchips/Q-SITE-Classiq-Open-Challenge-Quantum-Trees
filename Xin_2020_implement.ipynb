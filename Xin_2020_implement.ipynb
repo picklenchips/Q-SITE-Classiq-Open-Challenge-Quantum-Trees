{
 "cells": [
  {
   "cell_type": "markdown",
   "metadata": {},
   "source": [
    "Here we implement the solver from [Quantum algorithm for solving linear differential equations: Theory and experiment](https://journals.aps.org/pra/pdf/10.1103/PhysRevA.101.032307) by Xin *et al.* in the **Classiq** quantum programming language. \n",
    "\n",
    "### Classical Problem\n",
    "\n",
    "Xin *et al.* provide a new method to solve any Linear Differential Equation formulated as \n",
    "\n",
    "$$\\frac{d}{dt}\\vec{x}(t)= M\\vec{x}(t)+\\vec{b}$$\n",
    "\n",
    "for an $N\\times N$ matrix $M$ and $N$-dimensional vectors $x$, $b$. \n",
    "\n",
    "Taylor-expanding the analytical solution, \n",
    "\n",
    "$$\n",
    "\\begin{aligned}\n",
    "x(t)&=e^{Mt}x(0)+\\left(e^{Mt}-\\mathbb{I}\\right)M^{-1}b\n",
    "\\\\\n",
    "&\\approx \\sum^k_{m=0}\\frac{(Mt)^m}{m!}x(0)+\\sum^k_{n=1}\\frac{M^{n-1}t^n}{n!}b.\n",
    "\\end{aligned}\n",
    "$$\n",
    "\n",
    "### Quantum Formulation\n",
    "\n",
    "1. Prepare two quantum states $\\ket{x(0)}$ and $\\ket{b}$ in the $N$-dimensional computational basis, on $\\log_2(N)$ qubits. \n",
    "1. Describe the $N\\times N$ operator $M$ as $A$ in the computational basis, such that $A_{ij}=M_{ij}\\ket{i}\\bra{j}$ up to normalization.\n",
    "\n",
    "We then arrive at \n",
    "\n",
    "$$\\ket{x(t)}\\approx \\sum_{m=0}^k \\frac{\\|x(0)\\|(\\|M\\|At)^m}{m!}\\ket{x(0)}+\\sum_{n=1}^k\\frac{\\|b\\|(\\|M\\|A)^{n-1}t^n}{n!}\\ket{b}$$\n",
    "\n",
    "\n",
    "\n",
    "1. Assuming $A$ is unitary, encode $k$ powers of $A$ as the unitaries $U_n=A^n$.\n",
    "1. Define $C_m=\\|x(0)\\|(\\|M\\|t)^m/m!$ and $D_n=\\|b\\|(\\|M\\|t)^{n-1}t/n!$\n",
    "\n"
   ]
  },
  {
   "cell_type": "code",
   "execution_count": null,
   "metadata": {},
   "outputs": [],
   "source": [
    "from classiq import (\n",
    "    qfunc, Output, QBit, QNum, QArray, CInt,\n",
    "    allocate, within_apply, control, repeat, if_, \n",
    "    inplace_prepare_state, hadamard_transform, inplace_prepare_int, \n",
    "    create_model, synthesize, execute, write_qmod, show,\n",
    "    X, H, SWAP, \n",
    "    set_constraints, Constraints, set_execution_preferences, set_preferences, Preferences, QuantumProgram, \n",
    ")\n",
    "\n"
   ]
  }
 ],
 "metadata": {
  "kernelspec": {
   "display_name": "physics",
   "language": "python",
   "name": "python3"
  },
  "language_info": {
   "name": "python",
   "version": "3.11.9"
  }
 },
 "nbformat": 4,
 "nbformat_minor": 2
}
